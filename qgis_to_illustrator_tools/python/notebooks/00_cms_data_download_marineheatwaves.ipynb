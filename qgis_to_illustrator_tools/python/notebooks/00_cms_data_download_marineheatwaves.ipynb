{
 "cells": [
  {
   "cell_type": "markdown",
   "id": "fecc2ede-46b5-437e-85ef-2e0d4e9be06f",
   "metadata": {},
   "source": [
    "# 🌊 Download Chlorophyll-a Data from Copernicus Marine Service\n",
    "\n",
    "We’ll use the [Copernicus Marine Toolbox](https://help.marine.copernicus.eu/en/articles/7970514-copernicus-marine-toolbox-installation) to download daily chlorophyll-a concentration data for the global ocean.\n",
    "\n",
    "👉 **Dataset used**:  \n",
    "[**Mass concentration of chlorophyll-a in sea water** (Copernicus Global Biogeochemical Analysis and Forecast)](https://data.marine.copernicus.eu/viewer/expert?view=viewer&crs=epsg%3A4326&t=1743638400000&z=0&center=-0.12499999999998475%2C0&zoom=9.867280342705042&layers=H4sIAFtZ6GcAAz3OTwuCMBiA8e.ynjU3IwhvaiWCZGSXiHhZ27TB5oaa9Ie_e9ah63N5fqcXjEzfZKqZcRDVTPfSAyUggkEaR8EDzR6yy78lK8okLjDexsWxyqtNuV_ncXXAJEuREIokXAbcSNOjsQIbbfHScN.VA7K25khm4ULIBnd05RsMSTinNOBXPT2eeSvkHSIy7WxTcablH8Ottp1h7kcYVaeE6uF9.gDydqIGugAAAA--&basemap=dark)"
   ]
  },
  {
   "cell_type": "markdown",
   "id": "c0b903a8-a453-41c9-ae37-ee38524c7860",
   "metadata": {},
   "source": [
    "## 🔐 **1. Set Up Your Copernicus Marine Account**\n",
    "\n",
    "Before downloading data, you’ll need to sign up for a **free account** with the Copernicus Marine Service and log in through the Python toolbox.\n",
    "\n",
    "➡️ Follow this short guide to create your free account:  \n",
    "[**How to Sign Up for Copernicus Marine Service**](https://help.marine.copernicus.eu/en/articles/4220332-how-to-sign-up-for-copernicus-marine-service)\n",
    "\n",
    "You’ll only need to do this once."
   ]
  },
  {
   "cell_type": "markdown",
   "id": "6cf1e983-93a5-41c6-9dc5-333fa3f5856f",
   "metadata": {},
   "source": [
    "## 🧑‍💻 **2: Log in using Python**\n",
    "\n",
    "Once you have an account, run the code below in a code cell.  \n",
    "It will securely store your credentials for future use:"
   ]
  },
  {
   "cell_type": "code",
   "execution_count": 3,
   "id": "6f33c3d8-2db2-4882-a2da-80c2a52108b4",
   "metadata": {},
   "outputs": [
    {
     "name": "stderr",
     "output_type": "stream",
     "text": [
      "INFO - 2025-05-02T18:14:15Z - Downloading Copernicus Marine data requires a Copernicus Marine username and password, sign up for free at: https://data.marine.copernicus.eu/register\n"
     ]
    },
    {
     "name": "stdout",
     "output_type": "stream",
     "text": [
      "Copernicus Marine username:"
     ]
    },
    {
     "name": "stdin",
     "output_type": "stream",
     "text": [
      "  cphillips1\n"
     ]
    },
    {
     "name": "stdout",
     "output_type": "stream",
     "text": [
      "Copernicus Marine password:"
     ]
    },
    {
     "name": "stdin",
     "output_type": "stream",
     "text": [
      "  ········\n"
     ]
    },
    {
     "name": "stdout",
     "output_type": "stream",
     "text": [
      "File /Users/chiara/.copernicusmarine/.copernicusmarine-credentials already exists, overwrite it ? [y/N]:"
     ]
    },
    {
     "name": "stdin",
     "output_type": "stream",
     "text": [
      "  y\n"
     ]
    },
    {
     "name": "stderr",
     "output_type": "stream",
     "text": [
      "INFO - 2025-05-02T18:14:22Z - Credentials file stored in /Users/chiara/.copernicusmarine/.copernicusmarine-credentials.\n"
     ]
    },
    {
     "data": {
      "text/plain": [
       "True"
      ]
     },
     "execution_count": 3,
     "metadata": {},
     "output_type": "execute_result"
    }
   ],
   "source": [
    "import copernicusmarine\n",
    "\n",
    "# This will prompt you to enter your username and password in the terminal\n",
    "copernicusmarine.login()"
   ]
  },
  {
   "cell_type": "markdown",
   "id": "bd4fab9e-47c8-4979-a9d7-600568ae2845",
   "metadata": {},
   "source": [
    "## 📥 **3. Download Global Chlorophyll-a Data**\n",
    "\n",
    "In this step, we'll download **daily surface chlorophyll-a concentration data** for the **entire globe** for the year 2024 using the [\"subset\" function](https://help.marine.copernicus.eu/en/articles/8283072-copernicus-marine-toolbox-api-subset#h_0f01441061) from the Copernicus Marine Toolbox.\n",
    "\n",
    "This dataset provides modeled estimates of phytoplankton (chlorophyll-a) concentration, which is often used as a proxy for **ocean productivity and bloom detection**.\n",
    "\n",
    "Here’s what we’re downloading:\n",
    "\n",
    "- **Variable:** Chlorophyll-a concentration (`chl`)\n",
    "- **Time range:** January 1, 2024 – January 1, 2025\n",
    "- **Depth:** Surface layer (~0.5m)\n",
    "- **Coverage:** Global ocean (latitude −80° to 90°, longitude −180° to 180°)\n",
    "\n",
    "The data will be saved as a **Zarr file** in a folder called `data/`. We’ll work with this file in the next step.\n"
   ]
  },
  {
   "cell_type": "code",
   "execution_count": 10,
   "id": "543dccf3-5f94-4c69-8e5e-ba27f2051658",
   "metadata": {},
   "outputs": [
    {
     "name": "stderr",
     "output_type": "stream",
     "text": [
      "INFO - 2025-05-03T14:21:02Z - Selected dataset version: \"202406\"\n",
      "INFO - 2025-05-03T14:21:02Z - Selected dataset part: \"default\"\n",
      "WARNING - 2025-05-03T14:21:04Z - Some of your subset selection [-90, 90] for the latitude dimension exceed the dataset coordinates [-80.0, 90.0]\n"
     ]
    },
    {
     "ename": "CoordinatesOutOfDatasetBounds",
     "evalue": "Some of your subset selection [1985-01-01 00:00:00+00:00, 1994-01-01 00:00:00+00:00] for the time dimension exceed the dataset coordinates [2022-06-01 00:00:00+00:00, 2025-05-12 00:00:00+00:00]",
     "output_type": "error",
     "traceback": [
      "\u001b[0;31m---------------------------------------------------------------------------\u001b[0m",
      "\u001b[0;31mCoordinatesOutOfDatasetBounds\u001b[0m             Traceback (most recent call last)",
      "Cell \u001b[0;32mIn[10], line 3\u001b[0m\n\u001b[1;32m      1\u001b[0m \u001b[38;5;28;01mimport\u001b[39;00m\u001b[38;5;250m \u001b[39m\u001b[38;5;21;01mcopernicusmarine\u001b[39;00m\n\u001b[0;32m----> 3\u001b[0m \u001b[43mcopernicusmarine\u001b[49m\u001b[38;5;241;43m.\u001b[39;49m\u001b[43msubset\u001b[49m\u001b[43m(\u001b[49m\n\u001b[1;32m      4\u001b[0m \u001b[43m  \u001b[49m\u001b[43mdataset_id\u001b[49m\u001b[38;5;241;43m=\u001b[39;49m\u001b[38;5;124;43m\"\u001b[39;49m\u001b[38;5;124;43mcmems_mod_glo_phy-thetao_anfc_0.083deg_P1D-m\u001b[39;49m\u001b[38;5;124;43m\"\u001b[39;49m\u001b[43m,\u001b[49m\n\u001b[1;32m      5\u001b[0m \u001b[43m  \u001b[49m\u001b[43mvariables\u001b[49m\u001b[38;5;241;43m=\u001b[39;49m\u001b[43m[\u001b[49m\u001b[38;5;124;43m\"\u001b[39;49m\u001b[38;5;124;43mthetao\u001b[39;49m\u001b[38;5;124;43m\"\u001b[39;49m\u001b[43m]\u001b[49m\u001b[43m,\u001b[49m\n\u001b[1;32m      6\u001b[0m \u001b[43m  \u001b[49m\u001b[43mminimum_longitude\u001b[49m\u001b[38;5;241;43m=\u001b[39;49m\u001b[38;5;241;43m-\u001b[39;49m\u001b[38;5;241;43m180\u001b[39;49m\u001b[43m,\u001b[49m\n\u001b[1;32m      7\u001b[0m \u001b[43m  \u001b[49m\u001b[43mmaximum_longitude\u001b[49m\u001b[38;5;241;43m=\u001b[39;49m\u001b[38;5;241;43m180\u001b[39;49m\u001b[43m,\u001b[49m\n\u001b[1;32m      8\u001b[0m \u001b[43m  \u001b[49m\u001b[43mminimum_latitude\u001b[49m\u001b[38;5;241;43m=\u001b[39;49m\u001b[38;5;241;43m-\u001b[39;49m\u001b[38;5;241;43m90\u001b[39;49m\u001b[43m,\u001b[49m\n\u001b[1;32m      9\u001b[0m \u001b[43m  \u001b[49m\u001b[43mmaximum_latitude\u001b[49m\u001b[38;5;241;43m=\u001b[39;49m\u001b[38;5;241;43m90\u001b[39;49m\u001b[43m,\u001b[49m\n\u001b[1;32m     10\u001b[0m \u001b[43m  \u001b[49m\u001b[43mstart_datetime\u001b[49m\u001b[38;5;241;43m=\u001b[39;49m\u001b[38;5;124;43m\"\u001b[39;49m\u001b[38;5;124;43m1985-01-01T00:00:00\u001b[39;49m\u001b[38;5;124;43m\"\u001b[39;49m\u001b[43m,\u001b[49m\n\u001b[1;32m     11\u001b[0m \u001b[43m  \u001b[49m\u001b[43mend_datetime\u001b[49m\u001b[38;5;241;43m=\u001b[39;49m\u001b[38;5;124;43m\"\u001b[39;49m\u001b[38;5;124;43m1994-01-01T00:00:00\u001b[39;49m\u001b[38;5;124;43m\"\u001b[39;49m\u001b[43m,\u001b[49m\n\u001b[1;32m     12\u001b[0m \u001b[43m  \u001b[49m\u001b[43mminimum_depth\u001b[49m\u001b[38;5;241;43m=\u001b[39;49m\u001b[38;5;241;43m0.49402499198913574\u001b[39;49m\u001b[43m,\u001b[49m\n\u001b[1;32m     13\u001b[0m \u001b[43m  \u001b[49m\u001b[43mmaximum_depth\u001b[49m\u001b[38;5;241;43m=\u001b[39;49m\u001b[38;5;241;43m0.49402499198913574\u001b[39;49m\u001b[43m,\u001b[49m\n\u001b[1;32m     14\u001b[0m \u001b[43m  \u001b[49m\u001b[43moutput_directory\u001b[49m\u001b[38;5;241;43m=\u001b[39;49m\u001b[38;5;124;43m\"\u001b[39;49m\u001b[38;5;124;43mdata\u001b[39;49m\u001b[38;5;124;43m\"\u001b[39;49m\u001b[43m,\u001b[49m\n\u001b[1;32m     15\u001b[0m \u001b[43m  \u001b[49m\u001b[43mfile_format\u001b[49m\u001b[38;5;241;43m=\u001b[39;49m\u001b[38;5;124;43m\"\u001b[39;49m\u001b[38;5;124;43mzarr\u001b[39;49m\u001b[38;5;124;43m\"\u001b[39;49m\n\u001b[1;32m     16\u001b[0m \u001b[43m)\u001b[49m\n",
      "File \u001b[0;32m~/miniconda3/envs/py3.10/lib/python3.10/site-packages/copernicusmarine/core_functions/deprecated_options.py:78\u001b[0m, in \u001b[0;36mdeprecated_python_option.<locals>.deco.<locals>.wrapper\u001b[0;34m(*args, **kwargs)\u001b[0m\n\u001b[1;32m     75\u001b[0m \u001b[38;5;129m@functools\u001b[39m\u001b[38;5;241m.\u001b[39mwraps(f)\n\u001b[1;32m     76\u001b[0m \u001b[38;5;28;01mdef\u001b[39;00m\u001b[38;5;250m \u001b[39m\u001b[38;5;21mwrapper\u001b[39m(\u001b[38;5;241m*\u001b[39margs, \u001b[38;5;241m*\u001b[39m\u001b[38;5;241m*\u001b[39mkwargs):\n\u001b[1;32m     77\u001b[0m     rename_kwargs(f\u001b[38;5;241m.\u001b[39m\u001b[38;5;18m__name__\u001b[39m, kwargs, aliases)\n\u001b[0;32m---> 78\u001b[0m     \u001b[38;5;28;01mreturn\u001b[39;00m \u001b[43mf\u001b[49m\u001b[43m(\u001b[49m\u001b[38;5;241;43m*\u001b[39;49m\u001b[43margs\u001b[49m\u001b[43m,\u001b[49m\u001b[43m \u001b[49m\u001b[38;5;241;43m*\u001b[39;49m\u001b[38;5;241;43m*\u001b[39;49m\u001b[43mkwargs\u001b[49m\u001b[43m)\u001b[49m\n",
      "File \u001b[0;32m~/miniconda3/envs/py3.10/lib/python3.10/site-packages/copernicusmarine/python_interface/exception_handler.py:17\u001b[0m, in \u001b[0;36mlog_exception_and_exit.<locals>.wrapper\u001b[0;34m(*args, **kwargs)\u001b[0m\n\u001b[1;32m     15\u001b[0m     \u001b[38;5;28mprint\u001b[39m(\u001b[38;5;124m\"\u001b[39m\u001b[38;5;124mAbort\u001b[39m\u001b[38;5;124m\"\u001b[39m)\n\u001b[1;32m     16\u001b[0m \u001b[38;5;28;01mexcept\u001b[39;00m \u001b[38;5;167;01mException\u001b[39;00m \u001b[38;5;28;01mas\u001b[39;00m exception:\n\u001b[0;32m---> 17\u001b[0m     \u001b[38;5;28;01mraise\u001b[39;00m exception\n",
      "File \u001b[0;32m~/miniconda3/envs/py3.10/lib/python3.10/site-packages/copernicusmarine/python_interface/exception_handler.py:13\u001b[0m, in \u001b[0;36mlog_exception_and_exit.<locals>.wrapper\u001b[0;34m(*args, **kwargs)\u001b[0m\n\u001b[1;32m     10\u001b[0m \u001b[38;5;129m@wraps\u001b[39m(function)\n\u001b[1;32m     11\u001b[0m \u001b[38;5;28;01mdef\u001b[39;00m\u001b[38;5;250m \u001b[39m\u001b[38;5;21mwrapper\u001b[39m(\u001b[38;5;241m*\u001b[39margs, \u001b[38;5;241m*\u001b[39m\u001b[38;5;241m*\u001b[39mkwargs):\n\u001b[1;32m     12\u001b[0m     \u001b[38;5;28;01mtry\u001b[39;00m:\n\u001b[0;32m---> 13\u001b[0m         \u001b[38;5;28;01mreturn\u001b[39;00m \u001b[43mfunction\u001b[49m\u001b[43m(\u001b[49m\u001b[38;5;241;43m*\u001b[39;49m\u001b[43margs\u001b[49m\u001b[43m,\u001b[49m\u001b[43m \u001b[49m\u001b[38;5;241;43m*\u001b[39;49m\u001b[38;5;241;43m*\u001b[39;49m\u001b[43mkwargs\u001b[49m\u001b[43m)\u001b[49m\n\u001b[1;32m     14\u001b[0m     \u001b[38;5;28;01mexcept\u001b[39;00m click\u001b[38;5;241m.\u001b[39mAbort:\n\u001b[1;32m     15\u001b[0m         \u001b[38;5;28mprint\u001b[39m(\u001b[38;5;124m\"\u001b[39m\u001b[38;5;124mAbort\u001b[39m\u001b[38;5;124m\"\u001b[39m)\n",
      "File \u001b[0;32m~/miniconda3/envs/py3.10/lib/python3.10/site-packages/copernicusmarine/python_interface/subset.py:154\u001b[0m, in \u001b[0;36msubset\u001b[0;34m(dataset_id, dataset_version, dataset_part, username, password, variables, minimum_longitude, maximum_longitude, minimum_latitude, maximum_latitude, minimum_depth, maximum_depth, vertical_axis, start_datetime, end_datetime, coordinates_selection_method, output_filename, file_format, service, request_file, output_directory, credentials_file, motu_api_request, overwrite, skip_existing, dry_run, disable_progress_bar, staging, netcdf_compression_level, netcdf3_compatible, chunk_size_limit)\u001b[0m\n\u001b[1;32m    151\u001b[0m start_datetime \u001b[38;5;241m=\u001b[39m homogenize_datetime(start_datetime)\n\u001b[1;32m    152\u001b[0m end_datetime \u001b[38;5;241m=\u001b[39m homogenize_datetime(end_datetime)\n\u001b[0;32m--> 154\u001b[0m \u001b[38;5;28;01mreturn\u001b[39;00m \u001b[43msubset_function\u001b[49m\u001b[43m(\u001b[49m\n\u001b[1;32m    155\u001b[0m \u001b[43m    \u001b[49m\u001b[43mdataset_id\u001b[49m\u001b[43m,\u001b[49m\n\u001b[1;32m    156\u001b[0m \u001b[43m    \u001b[49m\u001b[43mdataset_version\u001b[49m\u001b[43m,\u001b[49m\n\u001b[1;32m    157\u001b[0m \u001b[43m    \u001b[49m\u001b[43mdataset_part\u001b[49m\u001b[43m,\u001b[49m\n\u001b[1;32m    158\u001b[0m \u001b[43m    \u001b[49m\u001b[43musername\u001b[49m\u001b[43m,\u001b[49m\n\u001b[1;32m    159\u001b[0m \u001b[43m    \u001b[49m\u001b[43mpassword\u001b[49m\u001b[43m,\u001b[49m\n\u001b[1;32m    160\u001b[0m \u001b[43m    \u001b[49m\u001b[43mvariables\u001b[49m\u001b[43m,\u001b[49m\n\u001b[1;32m    161\u001b[0m \u001b[43m    \u001b[49m\u001b[43mminimum_longitude\u001b[49m\u001b[43m,\u001b[49m\n\u001b[1;32m    162\u001b[0m \u001b[43m    \u001b[49m\u001b[43mmaximum_longitude\u001b[49m\u001b[43m,\u001b[49m\n\u001b[1;32m    163\u001b[0m \u001b[43m    \u001b[49m\u001b[43mminimum_latitude\u001b[49m\u001b[43m,\u001b[49m\n\u001b[1;32m    164\u001b[0m \u001b[43m    \u001b[49m\u001b[43mmaximum_latitude\u001b[49m\u001b[43m,\u001b[49m\n\u001b[1;32m    165\u001b[0m \u001b[43m    \u001b[49m\u001b[43mminimum_depth\u001b[49m\u001b[43m,\u001b[49m\n\u001b[1;32m    166\u001b[0m \u001b[43m    \u001b[49m\u001b[43mmaximum_depth\u001b[49m\u001b[43m,\u001b[49m\n\u001b[1;32m    167\u001b[0m \u001b[43m    \u001b[49m\u001b[43mvertical_axis\u001b[49m\u001b[43m,\u001b[49m\n\u001b[1;32m    168\u001b[0m \u001b[43m    \u001b[49m\u001b[43mstart_datetime\u001b[49m\u001b[43m,\u001b[49m\n\u001b[1;32m    169\u001b[0m \u001b[43m    \u001b[49m\u001b[43mend_datetime\u001b[49m\u001b[43m,\u001b[49m\n\u001b[1;32m    170\u001b[0m \u001b[43m    \u001b[49m\u001b[43mcoordinates_selection_method\u001b[49m\u001b[43m,\u001b[49m\n\u001b[1;32m    171\u001b[0m \u001b[43m    \u001b[49m\u001b[43moutput_filename\u001b[49m\u001b[43m,\u001b[49m\n\u001b[1;32m    172\u001b[0m \u001b[43m    \u001b[49m\u001b[43mfile_format\u001b[49m\u001b[43m,\u001b[49m\n\u001b[1;32m    173\u001b[0m \u001b[43m    \u001b[49m\u001b[43mservice\u001b[49m\u001b[43m,\u001b[49m\n\u001b[1;32m    174\u001b[0m \u001b[43m    \u001b[49m\u001b[43mrequest_file\u001b[49m\u001b[43m,\u001b[49m\n\u001b[1;32m    175\u001b[0m \u001b[43m    \u001b[49m\u001b[43moutput_directory\u001b[49m\u001b[43m,\u001b[49m\n\u001b[1;32m    176\u001b[0m \u001b[43m    \u001b[49m\u001b[43mcredentials_file\u001b[49m\u001b[43m,\u001b[49m\n\u001b[1;32m    177\u001b[0m \u001b[43m    \u001b[49m\u001b[43mmotu_api_request\u001b[49m\u001b[43m,\u001b[49m\n\u001b[1;32m    178\u001b[0m \u001b[43m    \u001b[49m\u001b[43moverwrite\u001b[49m\u001b[43m,\u001b[49m\n\u001b[1;32m    179\u001b[0m \u001b[43m    \u001b[49m\u001b[43mskip_existing\u001b[49m\u001b[43m,\u001b[49m\n\u001b[1;32m    180\u001b[0m \u001b[43m    \u001b[49m\u001b[43mdry_run\u001b[49m\u001b[43m,\u001b[49m\n\u001b[1;32m    181\u001b[0m \u001b[43m    \u001b[49m\u001b[43mdisable_progress_bar\u001b[49m\u001b[43m,\u001b[49m\n\u001b[1;32m    182\u001b[0m \u001b[43m    \u001b[49m\u001b[43mstaging\u001b[49m\u001b[43m,\u001b[49m\n\u001b[1;32m    183\u001b[0m \u001b[43m    \u001b[49m\u001b[43mnetcdf_compression_level\u001b[49m\u001b[43m,\u001b[49m\n\u001b[1;32m    184\u001b[0m \u001b[43m    \u001b[49m\u001b[43mnetcdf3_compatible\u001b[49m\u001b[43m,\u001b[49m\n\u001b[1;32m    185\u001b[0m \u001b[43m    \u001b[49m\u001b[43mchunk_size_limit\u001b[49m\u001b[43m,\u001b[49m\n\u001b[1;32m    186\u001b[0m \u001b[43m\u001b[49m\u001b[43m)\u001b[49m\n",
      "File \u001b[0;32m~/miniconda3/envs/py3.10/lib/python3.10/site-packages/copernicusmarine/core_functions/subset.py:164\u001b[0m, in \u001b[0;36msubset_function\u001b[0;34m(dataset_id, force_dataset_version, force_dataset_part, username, password, variables, minimum_longitude, maximum_longitude, minimum_latitude, maximum_latitude, minimum_depth, maximum_depth, vertical_axis, start_datetime, end_datetime, coordinates_selection_method, output_filename, file_format, force_service, request_file, output_directory, credentials_file, motu_api_request, overwrite, skip_existing, dry_run, disable_progress_bar, staging, netcdf_compression_level, netcdf3_compatible, chunk_size_limit)\u001b[0m\n\u001b[1;32m    154\u001b[0m retrieval_service: RetrievalService \u001b[38;5;241m=\u001b[39m get_retrieval_service(\n\u001b[1;32m    155\u001b[0m     subset_request\u001b[38;5;241m.\u001b[39mdataset_id,\n\u001b[1;32m    156\u001b[0m     subset_request\u001b[38;5;241m.\u001b[39mforce_dataset_version,\n\u001b[0;32m   (...)\u001b[0m\n\u001b[1;32m    161\u001b[0m     staging\u001b[38;5;241m=\u001b[39mstaging,\n\u001b[1;32m    162\u001b[0m )\n\u001b[1;32m    163\u001b[0m subset_request\u001b[38;5;241m.\u001b[39mdataset_url \u001b[38;5;241m=\u001b[39m retrieval_service\u001b[38;5;241m.\u001b[39muri\n\u001b[0;32m--> 164\u001b[0m \u001b[43mcheck_dataset_subset_bounds\u001b[49m\u001b[43m(\u001b[49m\n\u001b[1;32m    165\u001b[0m \u001b[43m    \u001b[49m\u001b[43musername\u001b[49m\u001b[38;5;241;43m=\u001b[39;49m\u001b[43musername\u001b[49m\u001b[43m,\u001b[49m\n\u001b[1;32m    166\u001b[0m \u001b[43m    \u001b[49m\u001b[43mpassword\u001b[49m\u001b[38;5;241;43m=\u001b[39;49m\u001b[43mpassword\u001b[49m\u001b[43m,\u001b[49m\n\u001b[1;32m    167\u001b[0m \u001b[43m    \u001b[49m\u001b[43mdataset_url\u001b[49m\u001b[38;5;241;43m=\u001b[39;49m\u001b[43msubset_request\u001b[49m\u001b[38;5;241;43m.\u001b[39;49m\u001b[43mdataset_url\u001b[49m\u001b[43m,\u001b[49m\n\u001b[1;32m    168\u001b[0m \u001b[43m    \u001b[49m\u001b[43mservice_name\u001b[49m\u001b[38;5;241;43m=\u001b[39;49m\u001b[43mretrieval_service\u001b[49m\u001b[38;5;241;43m.\u001b[39;49m\u001b[43mservice_name\u001b[49m\u001b[43m,\u001b[49m\n\u001b[1;32m    169\u001b[0m \u001b[43m    \u001b[49m\u001b[43mdataset_subset\u001b[49m\u001b[38;5;241;43m=\u001b[39;49m\u001b[43msubset_request\u001b[49m\u001b[38;5;241;43m.\u001b[39;49m\u001b[43mget_time_and_space_subset\u001b[49m\u001b[43m(\u001b[49m\u001b[43m)\u001b[49m\u001b[43m,\u001b[49m\n\u001b[1;32m    170\u001b[0m \u001b[43m    \u001b[49m\u001b[43mcoordinates_selection_method\u001b[49m\u001b[38;5;241;43m=\u001b[39;49m\u001b[43msubset_request\u001b[49m\u001b[38;5;241;43m.\u001b[39;49m\u001b[43mcoordinates_selection_method\u001b[49m\u001b[43m,\u001b[49m\n\u001b[1;32m    171\u001b[0m \u001b[43m    \u001b[49m\u001b[43mdataset_valid_date\u001b[49m\u001b[38;5;241;43m=\u001b[39;49m\u001b[43mretrieval_service\u001b[49m\u001b[38;5;241;43m.\u001b[39;49m\u001b[43mdataset_valid_start_date\u001b[49m\u001b[43m,\u001b[49m\n\u001b[1;32m    172\u001b[0m \u001b[43m    \u001b[49m\u001b[43mis_original_grid\u001b[49m\u001b[38;5;241;43m=\u001b[39;49m\u001b[43mretrieval_service\u001b[49m\u001b[38;5;241;43m.\u001b[39;49m\u001b[43mis_original_grid\u001b[49m\u001b[43m,\u001b[49m\n\u001b[1;32m    173\u001b[0m \u001b[43m\u001b[49m\u001b[43m)\u001b[49m\n\u001b[1;32m    174\u001b[0m \u001b[38;5;28;01mif\u001b[39;00m retrieval_service\u001b[38;5;241m.\u001b[39mservice_name \u001b[38;5;129;01min\u001b[39;00m [\n\u001b[1;32m    175\u001b[0m     CopernicusMarineServiceNames\u001b[38;5;241m.\u001b[39mGEOSERIES,\n\u001b[1;32m    176\u001b[0m     CopernicusMarineServiceNames\u001b[38;5;241m.\u001b[39mTIMESERIES,\n\u001b[1;32m    177\u001b[0m     CopernicusMarineServiceNames\u001b[38;5;241m.\u001b[39mOMI_ARCO,\n\u001b[1;32m    178\u001b[0m     CopernicusMarineServiceNames\u001b[38;5;241m.\u001b[39mSTATIC_ARCO,\n\u001b[1;32m    179\u001b[0m ]:\n\u001b[1;32m    180\u001b[0m     \u001b[38;5;28;01mif\u001b[39;00m (\n\u001b[1;32m    181\u001b[0m         retrieval_service\u001b[38;5;241m.\u001b[39mservice_format\n\u001b[1;32m    182\u001b[0m         \u001b[38;5;241m==\u001b[39m CopernicusMarineServiceFormat\u001b[38;5;241m.\u001b[39mZARR\n\u001b[1;32m    183\u001b[0m     ):\n",
      "File \u001b[0;32m~/miniconda3/envs/py3.10/lib/python3.10/site-packages/copernicusmarine/download_functions/subset_xarray.py:712\u001b[0m, in \u001b[0;36mcheck_dataset_subset_bounds\u001b[0;34m(username, password, dataset_url, service_name, dataset_subset, coordinates_selection_method, dataset_valid_date, is_original_grid)\u001b[0m\n\u001b[1;32m    702\u001b[0m         user_minimum_coordinate_value \u001b[38;5;241m=\u001b[39m (\n\u001b[1;32m    703\u001b[0m             dataset_subset\u001b[38;5;241m.\u001b[39mstart_datetime\n\u001b[1;32m    704\u001b[0m             \u001b[38;5;28;01mif\u001b[39;00m dataset_subset\u001b[38;5;241m.\u001b[39mstart_datetime \u001b[38;5;129;01mis\u001b[39;00m \u001b[38;5;129;01mnot\u001b[39;00m \u001b[38;5;28;01mNone\u001b[39;00m\n\u001b[1;32m    705\u001b[0m             \u001b[38;5;28;01melse\u001b[39;00m dataset_minimum_coordinate_value\n\u001b[1;32m    706\u001b[0m         )\n\u001b[1;32m    707\u001b[0m         user_maximum_coordinate_value \u001b[38;5;241m=\u001b[39m (\n\u001b[1;32m    708\u001b[0m             dataset_subset\u001b[38;5;241m.\u001b[39mend_datetime\n\u001b[1;32m    709\u001b[0m             \u001b[38;5;28;01mif\u001b[39;00m dataset_subset\u001b[38;5;241m.\u001b[39mend_datetime \u001b[38;5;129;01mis\u001b[39;00m \u001b[38;5;129;01mnot\u001b[39;00m \u001b[38;5;28;01mNone\u001b[39;00m\n\u001b[1;32m    710\u001b[0m             \u001b[38;5;28;01melse\u001b[39;00m dataset_maximum_coordinate_value\n\u001b[1;32m    711\u001b[0m         )\n\u001b[0;32m--> 712\u001b[0m         \u001b[43m_check_coordinate_overlap\u001b[49m\u001b[43m(\u001b[49m\n\u001b[1;32m    713\u001b[0m \u001b[43m            \u001b[49m\u001b[43mdimension\u001b[49m\u001b[38;5;241;43m=\u001b[39;49m\u001b[38;5;124;43m\"\u001b[39;49m\u001b[38;5;124;43mtime\u001b[39;49m\u001b[38;5;124;43m\"\u001b[39;49m\u001b[43m,\u001b[49m\n\u001b[1;32m    714\u001b[0m \u001b[43m            \u001b[49m\u001b[43muser_minimum_coordinate_value\u001b[49m\u001b[38;5;241;43m=\u001b[39;49m\u001b[43muser_minimum_coordinate_value\u001b[49m\u001b[43m,\u001b[49m\n\u001b[1;32m    715\u001b[0m \u001b[43m            \u001b[49m\u001b[43muser_maximum_coordinate_value\u001b[49m\u001b[38;5;241;43m=\u001b[39;49m\u001b[43muser_maximum_coordinate_value\u001b[49m\u001b[43m,\u001b[49m\n\u001b[1;32m    716\u001b[0m \u001b[43m            \u001b[49m\u001b[43mdataset_minimum_coordinate_value\u001b[49m\u001b[38;5;241;43m=\u001b[39;49m\u001b[43mdataset_minimum_coordinate_value\u001b[49m\u001b[43m,\u001b[49m\n\u001b[1;32m    717\u001b[0m \u001b[43m            \u001b[49m\u001b[43mdataset_maximum_coordinate_value\u001b[49m\u001b[38;5;241;43m=\u001b[39;49m\u001b[43mdataset_maximum_coordinate_value\u001b[49m\u001b[43m,\u001b[49m\n\u001b[1;32m    718\u001b[0m \u001b[43m            \u001b[49m\u001b[43mis_strict\u001b[49m\u001b[38;5;241;43m=\u001b[39;49m\u001b[43mcoordinates_selection_method\u001b[49m\u001b[43m \u001b[49m\u001b[38;5;241;43m==\u001b[39;49m\u001b[43m \u001b[49m\u001b[38;5;124;43m\"\u001b[39;49m\u001b[38;5;124;43mstrict-inside\u001b[39;49m\u001b[38;5;124;43m\"\u001b[39;49m\u001b[43m,\u001b[49m\n\u001b[1;32m    719\u001b[0m \u001b[43m        \u001b[49m\u001b[43m)\u001b[49m\n\u001b[1;32m    720\u001b[0m \u001b[38;5;28;01mfor\u001b[39;00m coordinate_label \u001b[38;5;129;01min\u001b[39;00m COORDINATES_LABEL[\u001b[38;5;124m\"\u001b[39m\u001b[38;5;124mdepth\u001b[39m\u001b[38;5;124m\"\u001b[39m]:\n\u001b[1;32m    721\u001b[0m     \u001b[38;5;28;01mif\u001b[39;00m coordinate_label \u001b[38;5;129;01min\u001b[39;00m dataset\u001b[38;5;241m.\u001b[39msizes:\n",
      "File \u001b[0;32m~/miniconda3/envs/py3.10/lib/python3.10/site-packages/copernicusmarine/download_functions/subset_xarray.py:771\u001b[0m, in \u001b[0;36m_check_coordinate_overlap\u001b[0;34m(dimension, user_minimum_coordinate_value, user_maximum_coordinate_value, dataset_minimum_coordinate_value, dataset_maximum_coordinate_value, is_strict)\u001b[0m\n\u001b[1;32m    763\u001b[0m     \u001b[38;5;28;01mif\u001b[39;00m user_minimum_coordinate_value \u001b[38;5;241m==\u001b[39m dataset_minimum_coordinate_value:\n\u001b[1;32m    764\u001b[0m         message \u001b[38;5;241m=\u001b[39m (\n\u001b[1;32m    765\u001b[0m             \u001b[38;5;124mf\u001b[39m\u001b[38;5;124m\"\u001b[39m\u001b[38;5;124mSome of your subset selection \u001b[39m\u001b[38;5;124m\"\u001b[39m\n\u001b[1;32m    766\u001b[0m             \u001b[38;5;124mf\u001b[39m\u001b[38;5;124m\"\u001b[39m\u001b[38;5;124m(\u001b[39m\u001b[38;5;132;01m{\u001b[39;00mdimension\u001b[38;5;132;01m}\u001b[39;00m\u001b[38;5;124m < \u001b[39m\u001b[38;5;132;01m{\u001b[39;00muser_maximum_coordinate_value\u001b[38;5;132;01m}\u001b[39;00m\u001b[38;5;124m) \u001b[39m\u001b[38;5;124m\"\u001b[39m\n\u001b[0;32m   (...)\u001b[0m\n\u001b[1;32m    769\u001b[0m             \u001b[38;5;124mf\u001b[39m\u001b[38;5;124m\"\u001b[39m\u001b[38;5;132;01m{\u001b[39;00mdataset_maximum_coordinate_value\u001b[38;5;132;01m}\u001b[39;00m\u001b[38;5;124m]\u001b[39m\u001b[38;5;124m\"\u001b[39m\n\u001b[1;32m    770\u001b[0m         )\n\u001b[0;32m--> 771\u001b[0m     \u001b[38;5;28;01mraise\u001b[39;00m CoordinatesOutOfDatasetBounds(message)\n\u001b[1;32m    772\u001b[0m \u001b[38;5;28;01melif\u001b[39;00m user_minimum_coordinate_value \u001b[38;5;241m>\u001b[39m dataset_maximum_coordinate_value:\n\u001b[1;32m    773\u001b[0m     \u001b[38;5;28;01mif\u001b[39;00m user_maximum_coordinate_value \u001b[38;5;241m==\u001b[39m dataset_maximum_coordinate_value:\n",
      "\u001b[0;31mCoordinatesOutOfDatasetBounds\u001b[0m: Some of your subset selection [1985-01-01 00:00:00+00:00, 1994-01-01 00:00:00+00:00] for the time dimension exceed the dataset coordinates [2022-06-01 00:00:00+00:00, 2025-05-12 00:00:00+00:00]"
     ]
    }
   ],
   "source": [
    "import copernicusmarine\n",
    "\n",
    "copernicusmarine.subset(\n",
    "  dataset_id=\"cmems_mod_glo_phy-thetao_anfc_0.083deg_P1D-m\",\n",
    "  variables=[\"thetao\"],\n",
    "  minimum_longitude=-180,\n",
    "  maximum_longitude=180,\n",
    "  minimum_latitude=-90,\n",
    "  maximum_latitude=90,\n",
    "  start_datetime=\"1985-01-01T00:00:00\",\n",
    "  end_datetime=\"1994-01-01T00:00:00\",\n",
    "  minimum_depth=0.49402499198913574,\n",
    "  maximum_depth=0.49402499198913574,\n",
    "  output_directory=\"data\",\n",
    "  file_format=\"zarr\"\n",
    ")\n"
   ]
  },
  {
   "cell_type": "markdown",
   "id": "5b62dce7-20f8-4263-89d1-48270e72e0c4",
   "metadata": {},
   "source": [
    "## 🧭 **4. Next Steps**\n",
    "\n",
    "Now that we’ve downloaded global chlorophyll-a data, the next step is to create **latitude bands** for spatial analysis.\n",
    "\n",
    "Open the notebook 👉[`01_create_latitude_blocks.ipynb`](01_create_latitude_blocks.ipynb), where you'll:\n",
    "\n",
    "- Generate rectangular polygons for **latitude bands** from the Equator to the North Pole\n",
    "- Use `geopandas` and `shapely` to create and manipulate the geometry\n",
    "- Save the result as a **GeoJSON file** to use in the next notebook\n",
    "\n",
    "These bands will allow us to calculate **mean chlorophyll-a values per latitude zone** over time in a later notebook."
   ]
  }
 ],
 "metadata": {
  "kernelspec": {
   "display_name": "Python (3.10)",
   "language": "python",
   "name": "3.10"
  },
  "language_info": {
   "codemirror_mode": {
    "name": "ipython",
    "version": 3
   },
   "file_extension": ".py",
   "mimetype": "text/x-python",
   "name": "python",
   "nbconvert_exporter": "python",
   "pygments_lexer": "ipython3",
   "version": "3.10.16"
  }
 },
 "nbformat": 4,
 "nbformat_minor": 5
}

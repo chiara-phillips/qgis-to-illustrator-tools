{
 "cells": [
  {
   "cell_type": "markdown",
   "id": "7eeb6ac5-9584-41be-9ff7-6b93c193ead4",
   "metadata": {},
   "source": [
    "# **Exporting NetCDF Timesteps as GeoTIFFs**\n",
    "\n",
    "## **Introduction**\n",
    "In this notebook, we will extract **daily chlorophyll-a data** from a Zarr file and export each **time slice as an individual GeoTIFF**. This allows us to style each GeoTiff separately and automate the map export within a QGIS map layout. You may decide to now download only a smaller window of data from the E.U. Copernicus Marine Service website.\n",
    "\n",
    "By the end of this tutorial, you will:\n",
    "- Know how to **open and explore Zarr files** using `xarray`.\n",
    "- Export **each timestep** of a variable as a **separate GeoTIFF**.\n",
    "\n",
    "## 📑 Table of Contents\n",
    "\n",
    "[🧰 1. Import Required Libraries](#1-import-required-libraries)  \n",
    "[📦 2. Define File Paths and Load Data](#2-define-file-paths-and-load-data)  \n",
    "[🔍 3. Inspect and Prepare the NetCDF File](#3-inspect-and-prepare-the-netcdf-file)  \n",
    "[🗂️ 4. Loop Through Timesteps and Export Rasters](#4-loop-through-timesteps-and-export-rasters)  \n"
   ]
  },
  {
   "cell_type": "markdown",
   "id": "5bee86e3-f43a-4ffb-a46f-745f9354cbeb",
   "metadata": {},
   "source": [
    "## 🧰 **1. Import Required Libraries**\n",
    "\n",
    "For this project, we use libraries from three key categories:  \n",
    "\n",
    "- **Data analysis libraries**  \n",
    "  These help us efficiently process and analyze structured and geospatial data:  \n",
    "  - `pandas` – Handles **tabular data** like CSV files and spreadsheets.  \n",
    "  - `xarray` – Works with **labeled N-dimensional arrays**, making it ideal for **Zarr** and multidimensional datasets.  \n",
    "  - `rioxarray` – Extends `xarray` with **geospatial capabilities**, allowing us to read, write, and manipulate raster datasets.  \n",
    "\n",
    "- **Path and pattern handling**  \n",
    "  To work efficiently with files and filenames, we use:  \n",
    "  - `pathlib.Path` – A modern, object-oriented way to **handle file paths**.  \n",
    "  - `re` – Provides **regular expressions** for pattern matching and parsing filenames.  \n",
    "\n",
    "- **Logging and system utilities**  \n",
    "  Instead of using `print()`, we’ll use a library called `loguru` to:  \n",
    "  - Show clear status messages as each step runs.  \n",
    "  - Display color-coded messages like 🎉 success or 🚩 errors, which help with debugging and tracking progress.  \n",
    "  - Keep our output clean, especially in notebooks.\n",
    "\n",
    "We also configure the logger to remove any background colors, which can look distracting in Jupyter, and to show simple, readable messages for each step."
   ]
  },
  {
   "cell_type": "code",
   "execution_count": null,
   "id": "45b265b9-c7c0-4662-a7a1-fb3c49906c13",
   "metadata": {},
   "outputs": [],
   "source": [
    "# --- Data analysis libraries ---\n",
    "import pandas as pd  # Tabular data manipulation and analysis\n",
    "import xarray as xr  # Labeled N-dimensional arrays\n",
    "import rioxarray as rxr  # Geo-aware extension for xarray, handles raster I/O\n",
    "\n",
    "# --- Path and pattern handling ---\n",
    "from pathlib import Path  # Object-oriented file paths\n",
    "import re  # Regular expressions for pattern matching and string parsing\n",
    "\n",
    "# --- Logging and system utilities ---\n",
    "from loguru import logger  # Simple, colorful logging\n",
    "import sys  # For routing logger output\n",
    "\n",
    "# Set up the logger to show clean messages (colored text, no background)\n",
    "from helpers import configure_logger\n",
    "configure_logger()\n",
    "\n",
    "# Check that everything was imported successfully\n",
    "logger.success(\"🎉 Libraries successfully imported.\")"
   ]
  },
  {
   "cell_type": "markdown",
   "id": "06891ce4-4949-43ca-96d5-1035e58e1c70",
   "metadata": {},
   "source": [
    "## 📦 **2. Define File Paths**"
   ]
  },
  {
   "cell_type": "code",
   "execution_count": null,
   "id": "4477580d-5483-4364-852f-63ee6f106b44",
   "metadata": {},
   "outputs": [],
   "source": [
    "# File paths\n",
    "zarr_path = Path.cwd() / \"data/\" / \"cmems_mod_glo_bgc-pft_anfc_0.25deg_P1D-m_chl_180.00W-179.75E_80.00S-90.00N_0.49m_2024-01-01-2024-12-31.zarr\"\n",
    "output_dir = Path.cwd() / \"data\" / \"rasters\"\n",
    "\n",
    "# Ensure the output directory exists\n",
    "output_dir.mkdir(parents=True, exist_ok=True)\n",
    "\n",
    "# Load Zarr\n",
    "ds = xr.open_zarr(zarr_path)"
   ]
  },
  {
   "cell_type": "markdown",
   "id": "5fb4d9a8-cef6-472c-abaf-4b9cdbf5b3f2",
   "metadata": {},
   "source": [
    "## 🔍 **3. Inspect and Prepare the Zarr File**"
   ]
  },
  {
   "cell_type": "code",
   "execution_count": null,
   "id": "c8944dd3-005a-4738-89a7-390ead827992",
   "metadata": {},
   "outputs": [],
   "source": [
    "# Extract base name before the date range (e.g., _2024-03-01-2024-06-01)\n",
    "match = re.match(r\"^(.*)_\\d{4}-\\d{2}-\\d{2}-\\d{4}-\\d{2}-\\d{2}$\", zarr_path.stem)\n",
    "base_name = match.group(1) if match else zarr_path.stem\n",
    "\n",
    "# Select only timesteps between March 1st and May 31st, 2024\n",
    "ds = ds.sel(time=slice(\"2024-03-01\", \"2024-05-31\"))\n",
    "\n",
    "# Inspect the dataset\n",
    "ds"
   ]
  },
  {
   "cell_type": "markdown",
   "id": "8fd21f97-a6e9-4d87-9e3e-5f0eb572c9e4",
   "metadata": {},
   "source": [
    "## 🗂️ **4. Loop Through Timesteps and Export Rasters**"
   ]
  },
  {
   "cell_type": "code",
   "execution_count": null,
   "id": "8e5b25af-4c1f-489b-be24-713f9e698fb3",
   "metadata": {},
   "outputs": [],
   "source": [
    "# Loop through timesteps\n",
    "for i, timestamp in enumerate(ds[\"time\"].values):\n",
    "    try:\n",
    "        da = ds[\"chl\"].sel(time=timestamp)\n",
    "        date_str = pd.to_datetime(str(timestamp)).strftime(\"%Y-%m-%d\")\n",
    "\n",
    "        da.rio.write_crs(\"EPSG:4326\", inplace=True)\n",
    "        output_path = output_dir / f\"{base_name}_{date_str}.tif\"\n",
    "        da.rio.to_raster(output_path)\n",
    "\n",
    "        logger.success(f\"🎉 Saved {output_path.name}\")\n",
    "\n",
    "    except Exception as e:\n",
    "        logger.error(f\"🚩 Failed to export timestep {timestamp}: {e}\")\n"
   ]
  },
  {
   "cell_type": "markdown",
   "id": "234118df-0444-4d51-8881-d46ec36726bf",
   "metadata": {},
   "source": [
    "## 🧭 **5. Next Steps**\n",
    "\n",
    "You’ve now exported each daily timestep of chlorophyll-a data as a **GeoTIFF**.\n",
    "\n",
    "In the next step, we’ll bring these rasters into **QGIS**, where you’ll:\n",
    "\n",
    "- Apply **styling** (e.g., color ramps) to visualize bloom dynamics\n",
    "- Use the **Print Layout** to export frames or create an animation\n",
    "- Automate styling using the QGIS Python Console/Python script provided in the repository\n",
    "\n",
    "📂 The QGIS automation script lives here in your project:  \n",
    "`qgis-to-illustrator-tools/qgis/qgis_layout_export.py`\n",
    "\n",
    "Let's go!\n"
   ]
  }
 ],
 "metadata": {
  "kernelspec": {
   "display_name": "Python (3.10)",
   "language": "python",
   "name": "3.10"
  },
  "language_info": {
   "codemirror_mode": {
    "name": "ipython",
    "version": 3
   },
   "file_extension": ".py",
   "mimetype": "text/x-python",
   "name": "python",
   "nbconvert_exporter": "python",
   "pygments_lexer": "ipython3",
   "version": "3.10.16"
  }
 },
 "nbformat": 4,
 "nbformat_minor": 5
}

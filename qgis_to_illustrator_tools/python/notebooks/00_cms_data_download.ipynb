{
 "cells": [
  {
   "cell_type": "markdown",
   "id": "fecc2ede-46b5-437e-85ef-2e0d4e9be06f",
   "metadata": {},
   "source": [
    "# 🌊 Download Chlorophyll-a Data from Copernicus Marine Service\n",
    "\n",
    "We’ll use the [Copernicus Marine Toolbox](https://help.marine.copernicus.eu/en/articles/7970514-copernicus-marine-toolbox-installation) to download daily chlorophyll-a concentration data for the global ocean.\n",
    "\n",
    "👉 **Dataset used**:  \n",
    "[**Mass concentration of chlorophyll-a in sea water** (Copernicus Global Biogeochemical Analysis and Forecast)](https://data.marine.copernicus.eu/viewer/expert?view=viewer&crs=epsg%3A4326&t=1743638400000&z=0&center=-0.12499999999998475%2C0&zoom=9.867280342705042&layers=H4sIAFtZ6GcAAz3OTwuCMBiA8e.ynjU3IwhvaiWCZGSXiHhZ27TB5oaa9Ie_e9ah63N5fqcXjEzfZKqZcRDVTPfSAyUggkEaR8EDzR6yy78lK8okLjDexsWxyqtNuV_ncXXAJEuREIokXAbcSNOjsQIbbfHScN.VA7K25khm4ULIBnd05RsMSTinNOBXPT2eeSvkHSIy7WxTcablH8Ottp1h7kcYVaeE6uF9.gDydqIGugAAAA--&basemap=dark)"
   ]
  },
  {
   "cell_type": "markdown",
   "id": "c0b903a8-a453-41c9-ae37-ee38524c7860",
   "metadata": {},
   "source": [
    "## 🔐 **1. Set Up Your Copernicus Marine Account**\n",
    "\n",
    "Before downloading data, you’ll need to sign up for a **free account** with the Copernicus Marine Service and log in through the Python toolbox.\n",
    "\n",
    "➡️ Follow this short guide to create your free account:  \n",
    "[**How to Sign Up for Copernicus Marine Service**](https://help.marine.copernicus.eu/en/articles/4220332-how-to-sign-up-for-copernicus-marine-service)\n",
    "\n",
    "You’ll only need to do this once."
   ]
  },
  {
   "cell_type": "markdown",
   "id": "6cf1e983-93a5-41c6-9dc5-333fa3f5856f",
   "metadata": {},
   "source": [
    "## 🧑‍💻 **2: Log in using Python**\n",
    "\n",
    "Once you have an account, run the code below in a code cell.  \n",
    "It will securely store your credentials for future use:"
   ]
  },
  {
   "cell_type": "code",
   "execution_count": null,
   "id": "6f33c3d8-2db2-4882-a2da-80c2a52108b4",
   "metadata": {},
   "outputs": [],
   "source": [
    "import copernicusmarine\n",
    "\n",
    "# This will prompt you to enter your username and password in the terminal\n",
    "copernicusmarine.login()"
   ]
  },
  {
   "cell_type": "markdown",
   "id": "bd4fab9e-47c8-4979-a9d7-600568ae2845",
   "metadata": {},
   "source": [
    "## 📥 **3. Download Global Chlorophyll-a Data**\n",
    "\n",
    "In this step, we'll download **daily surface chlorophyll-a concentration data** for the **entire globe** for the year 2024 using the [\"subset\" function](https://help.marine.copernicus.eu/en/articles/8283072-copernicus-marine-toolbox-api-subset#h_0f01441061) from the Copernicus Marine Toolbox.\n",
    "\n",
    "This dataset provides modeled estimates of phytoplankton (chlorophyll-a) concentration, which is often used as a proxy for **ocean productivity and bloom detection**.\n",
    "\n",
    "Here’s what we’re downloading:\n",
    "\n",
    "- **Variable:** Chlorophyll-a concentration (`chl`)\n",
    "- **Time range:** January 1, 2024 – January 1, 2025\n",
    "- **Depth:** Surface layer (~0.5m)\n",
    "- **Coverage:** Global ocean (latitude −80° to 90°, longitude −180° to 180°)\n",
    "\n",
    "The data will be saved as a **Zarr file** in a folder called `data/`. We’ll work with this file in the next step.\n"
   ]
  },
  {
   "cell_type": "code",
   "execution_count": null,
   "id": "4e8693ec-b640-4f18-9195-ad38b70d8424",
   "metadata": {},
   "outputs": [],
   "source": [
    "copernicusmarine.subset(\n",
    "  dataset_id=\"cmems_mod_glo_bgc-pft_anfc_0.25deg_P1D-m\",\n",
    "  variables=[\"chl\"],\n",
    "  minimum_longitude=-180,\n",
    "  maximum_longitude=179.75,\n",
    "  minimum_latitude=-80,\n",
    "  maximum_latitude=90,\n",
    "  start_datetime=\"2024-01-01T00:00:00\",\n",
    "  end_datetime=\"2024-12-31T00:00:00\",\n",
    "  minimum_depth=0.4940253794193268,\n",
    "  maximum_depth=0.4940253794193268,\n",
    "  output_directory=\"data\",\n",
    "  file_format=\"zarr\"\n",
    ")"
   ]
  },
  {
   "cell_type": "markdown",
   "id": "5b62dce7-20f8-4263-89d1-48270e72e0c4",
   "metadata": {},
   "source": [
    "## 🧭 **4. Next Steps**\n",
    "\n",
    "Now that we’ve downloaded global chlorophyll-a data, the next step is to create **latitude bands** for spatial analysis.\n",
    "\n",
    "Open the notebook 👉[`01_create_latitude_blocks.ipynb`](01_create_latitude_blocks.ipynb), where you'll:\n",
    "\n",
    "- Generate rectangular polygons for **latitude bands** from the Equator to the North Pole\n",
    "- Use `geopandas` and `shapely` to create and manipulate the geometry\n",
    "- Save the result as a **GeoJSON file** to use in the next notebook\n",
    "\n",
    "These bands will allow us to calculate **mean chlorophyll-a values per latitude zone** over time in a later notebook."
   ]
  }
 ],
 "metadata": {
  "kernelspec": {
   "display_name": "Python (3.10)",
   "language": "python",
   "name": "3.10"
  },
  "language_info": {
   "codemirror_mode": {
    "name": "ipython",
    "version": 3
   },
   "file_extension": ".py",
   "mimetype": "text/x-python",
   "name": "python",
   "nbconvert_exporter": "python",
   "pygments_lexer": "ipython3",
   "version": "3.10.16"
  }
 },
 "nbformat": 4,
 "nbformat_minor": 5
}

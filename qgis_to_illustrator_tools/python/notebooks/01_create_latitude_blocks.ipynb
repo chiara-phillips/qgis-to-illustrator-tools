{
 "cells": [
  {
   "cell_type": "markdown",
   "id": "f63105bb-44ec-4877-aaad-31d78cc9a979",
   "metadata": {},
   "source": [
    "# 🌊 **Creating Latitude Bands for Spatial Analysis in Ocean Data**\n",
    "\n",
    "## **Introduction**\n",
    "In this notebook, we will generate **latitude bands** from the Equator to the North Pole using `geopandas` and `shapely`. These bands will help us analyze **mean chlorophyll values across latitudes over time** in the \"[02_clip_ocean_by_latitude](02_clip_ocean_by_latitude.ipynb)\" notebook. \n",
    "\n",
    "By the end of this tutorial, you will:\n",
    "- Understand how to create **rectangular polygons** for latitude bands.\n",
    "- Learn how to store these polygons in a **GeoDataFrame**.\n",
    "- Save the output as a **GeoJSON** file for future use.\n",
    "\n",
    "## 📑 Table of Contents\n",
    "\n",
    "[🧰 1. Import Required Libraries](#1-import-required-libraries)  \n",
    "[🌍 2. Define Latitude Bands](#2-define-latitude-bands)  \n",
    "[🧱 3. Create Latitude Band Polygons](#3-create-latitude-band-polygons)  \n",
    "[🗂️ 4. Create a Geospatial Dataset](#4-create-a-geospatial-dataset)  \n",
    "[💾 5. Save as a GeoJSON File](#5-save-as-a-geojson-file)  \n",
    "[🖼️ 6. Visualize the Latitude Bands](#6-visualize-the-latitude-bands)  \n",
    "[🧭 7. Next Steps](#7-next-steps)\n"
   ]
  },
  {
   "cell_type": "markdown",
   "id": "38472802-b43b-4d5c-b701-c13f9a08796e",
   "metadata": {},
   "source": [
    "## 🧰 **1. Import Required Libraries**\n",
    "\n",
    "In Python, a **library** is like a toolbox. It gives you access to ready-made tools and functions, so you don’t have to build everything from scratch.\n",
    "\n",
    "In this project, we’ll use several types of libraries:\n",
    "\n",
    "- **Geospatial libraries**  \n",
    "  These help us work with geographic shapes like polygons and analyze spatial relationships. For example:  \n",
    "  - `GeoPandas` lets us treat maps like tables.  \n",
    "  - `Shapely` lets us create and manipulate geometric shapes.  \n",
    "  - `geodatasets` gives us easy access to high-quality sample map layers like coastlines and land areas.\n",
    "\n",
    "- **Plotting libraries**  \n",
    "  These allow us to create visualizations of our data. We'll use:  \n",
    "  - `matplotlib.pyplot` to draw maps and add labels.  \n",
    "  - `matplotlib.ticker` to control how the latitude and longitude tick marks are shown (e.g., with degree symbols like `45°`).  \n",
    "  - `seaborn` to create colorblind-friendly color palettes.  \n",
    "  - `ListedColormap` from `matplotlib.colors` to use custom color lists in our plots.\n",
    "\n",
    "- **Logging and system utilities**  \n",
    "  Instead of using `print()`, we’ll use a library called `loguru` to:  \n",
    "  - Show clear status messages as each step runs.  \n",
    "  - Display color-coded messages like 🎉 success or 🚩 errors, which help with debugging and tracking progress.  \n",
    "  - Keep our output clean, especially in notebooks."
   ]
  },
  {
   "cell_type": "code",
   "execution_count": null,
   "id": "63a34e9d-6301-4670-b600-255c41e0de90",
   "metadata": {},
   "outputs": [],
   "source": [
    "# --- Geospatial libraries ---\n",
    "import geopandas as gpd  # Geographic data handling (GeoDataFrames)\n",
    "from shapely.geometry import Polygon  # Basic geometry creation (e.g., polygons)\n",
    "import geodatasets  # Built-in sample datasets (e.g., Natural Earth land)\n",
    "\n",
    "# --- Plotting libraries ---\n",
    "import matplotlib.pyplot as plt  # Plotting maps and figures\n",
    "import matplotlib.ticker as mticker  # Customizing tick labels on axes\n",
    "from matplotlib.colors import ListedColormap  # Create custom colormaps from a list of colors\n",
    "\n",
    "# --- Logging and system utilities ---\n",
    "from loguru import logger  # Simple, colorful logging\n",
    "import sys  # For routing logger output\n",
    "\n",
    "# Set up the logger to show clean messages (colored text, no background)\n",
    "from helpers import configure_logger\n",
    "configure_logger()\n",
    "\n",
    "# Check that everything was imported successfully\n",
    "logger.success(\"🎉 Libraries successfully imported.\")\n"
   ]
  },
  {
   "cell_type": "markdown",
   "id": "49ae2d6f-e8b4-40b3-9544-9c0614e5fceb",
   "metadata": {},
   "source": [
    "## 🌍 **2. Define Latitude Bands**\n",
    "We will create **10-degree latitude bands** from the **Equator (0°) to the North Pole (90°)**. Each band represents a horizontal slice of the globe.\n",
    "\n",
    "The longitude range is set to **-180° to 180°**, covering the entire globe."
   ]
  },
  {
   "cell_type": "code",
   "execution_count": null,
   "id": "0ce35a94-5437-421e-9beb-ce874da02ebf",
   "metadata": {},
   "outputs": [],
   "source": [
    "try:\n",
    "    # Define the range of latitude bands (Equator to North Pole)\n",
    "    latitude_bands = [(lat, lat + 10) for lat in range(0, 90, 10)]  # From 0° to 90° in 10° steps\n",
    "\n",
    "    # Define longitude extent (Global)\n",
    "    lon_min, lon_max = -180, 180\n",
    "\n",
    "    logger.success(\"🎉 Latitude bands and global longitude range defined.\")\n",
    "except Exception as e:\n",
    "    logger.error(f\"🚩 Failed to define latitude bands or longitude range: {e}\")"
   ]
  },
  {
   "cell_type": "markdown",
   "id": "5d5579ac-5094-4349-930f-997f17d03c0a",
   "metadata": {},
   "source": [
    "## 🧱 **3. Create Latitude Band Polygons**\n",
    "Each latitude band is represented as a **rectangular polygon** spanning the full longitude range. These polygons are stored along with their corresponding latitude range labels.\n"
   ]
  },
  {
   "cell_type": "code",
   "execution_count": null,
   "id": "c3582282-519f-4e80-8a02-77b9a702e6e5",
   "metadata": {},
   "outputs": [],
   "source": [
    "try:\n",
    "    # List to store polygons and attributes\n",
    "    polygons = []\n",
    "    labels = []\n",
    "\n",
    "    # Generate polygons for each latitude band\n",
    "    for lat_min, lat_max in latitude_bands:\n",
    "        polygon = Polygon([\n",
    "            (lon_min, lat_min), (lon_max, lat_min),\n",
    "            (lon_max, lat_max), (lon_min, lat_max),\n",
    "            (lon_min, lat_min)  # Closing the polygon\n",
    "        ])\n",
    "        polygons.append(polygon)\n",
    "        labels.append(f\"{lat_min}° to {lat_max}°\")\n",
    "\n",
    "    logger.success(\"🎉 Latitude band polygons created and labeled.\")\n",
    "except Exception as e:\n",
    "    logger.error(f\"🚩 Failed to create and label latitude band polygons: {e}\")\n"
   ]
  },
  {
   "cell_type": "markdown",
   "id": "e71e2865-1fc5-4a7b-ae78-315881389625",
   "metadata": {},
   "source": [
    "## 🗂️ **4. Create a Geospatial Dataframe**\n",
    "We store the polygons and their labels in a structured dataset using a geospatial format. This allows for efficient spatial queries and visualization.\n",
    "\n",
    "The dataset includes:\n",
    "- A **\"Latitude_Range\"** column labeling each band (e.g., `\"0° to 10°\"`, `\"10° to 20°\"`, etc.).\n",
    "- A **geometry column** containing the corresponding polygons.\n",
    "- The coordinate reference system (CRS) set to **EPSG:4326 (WGS84)**, the standard for geographic data.\n"
   ]
  },
  {
   "cell_type": "code",
   "execution_count": null,
   "id": "3fe0e46d-a0cd-4321-a00d-f0d0fc3d0fec",
   "metadata": {},
   "outputs": [],
   "source": [
    "try:\n",
    "    # Create a single GeoDataFrame with all bands\n",
    "    gdf = gpd.GeoDataFrame(\n",
    "        {\"Latitude_Range\": labels},  # Attribute data\n",
    "        geometry=polygons,           # Polygon shapes\n",
    "        crs=\"EPSG:4326\"              # Set coordinate system\n",
    "    )\n",
    "    logger.success(\"🎉 GeoDataFrame created with labeled latitude bands and EPSG:4326 CRS.\")\n",
    "except Exception as e:\n",
    "    logger.error(f\"🚩 Failed to create GeoDataFrame: {e}\")"
   ]
  },
  {
   "cell_type": "markdown",
   "id": "580f3a18-bafd-4dac-9031-3d9e0a987938",
   "metadata": {},
   "source": [
    "## 💾 **5. Save as a GeoJSON File**\n",
    "The final dataset is saved as a **GeoJSON** file, a widely used format for storing and sharing geospatial data. This file will be used in later analyses.\n"
   ]
  },
  {
   "cell_type": "code",
   "execution_count": null,
   "id": "ac1eaaf7-4b66-45f1-8431-18178d372e5d",
   "metadata": {},
   "outputs": [],
   "source": [
    "# Save as GeoJSON\n",
    "geojson_name = \"data/latitude_bands_global.geojson\"\n",
    "\n",
    "logger.info(\"💾 Saving GeoJSON file...\")\n",
    "\n",
    "try:\n",
    "    gdf.to_file(geojson_name, driver=\"GeoJSON\")\n",
    "    logger.success(f\"🎉 GeoJSON file '{geojson_name}' created successfully.\")\n",
    "except Exception as e:\n",
    "    logger.error(f\"🚩 Could not save GeoJSON: {e}\")"
   ]
  },
  {
   "cell_type": "markdown",
   "id": "1055485a-b1df-4b2a-90f3-ca609e143acd",
   "metadata": {},
   "source": [
    "## 🖼️ **6. Visualize the Latitude Bands**\n",
    "We’ll now create a map to visually check that our latitude bands look correct."
   ]
  },
  {
   "cell_type": "markdown",
   "id": "2c4ef5d8-2041-4a3a-9bfc-dad90c7dd614",
   "metadata": {},
   "source": [
    "### 🌍 **6.1 Load the Land Background**\n",
    "\n",
    "We use `geodatasets` to access a simple landmass layer from Natural Earth. This helps give our latitude bands some geographic context."
   ]
  },
  {
   "cell_type": "code",
   "execution_count": null,
   "id": "f982e174-32e8-48a3-9172-6494c9f54e50",
   "metadata": {},
   "outputs": [],
   "source": [
    "try:\n",
    "    # Load the landmass layer from geodatasets\n",
    "    land = gpd.read_file(geodatasets.get_path(\"naturalearth.land\"))\n",
    "    logger.success(\"🎉 Natural Earth land layer loaded from geodatasets.\")\n",
    "except Exception as e:\n",
    "    logger.error(f\"🚩 Failed to load land layer from geodatasets: {e}\")\n"
   ]
  },
  {
   "cell_type": "markdown",
   "id": "29cee172-c00a-408b-9fc1-6dde6a5948be",
   "metadata": {},
   "source": [
    "### **🗺️ 6.2 Show the Final Map**\n",
    "\n",
    "We will now generate the final map using `matplotlib`, with the following layers and styling:\n",
    "\n",
    "- A light gray Natural Earth land background to give context\n",
    "- Latitude bands colored by the **Beaded Pastel color palette** from [Esri's color ramp suggestions](https://developers.arcgis.com/javascript/latest/visualization/symbols-color-ramps/esri-color-ramps/)"
   ]
  },
  {
   "cell_type": "code",
   "execution_count": null,
   "id": "4d7287f3-5a70-4b2c-b808-ce19bacb45ea",
   "metadata": {},
   "outputs": [],
   "source": [
    "try:\n",
    "    fig, ax = plt.subplots(figsize=(14, 7))\n",
    "\n",
    "    # Plot land background\n",
    "    land.plot(ax=ax, color=\"lightgray\", edgecolor=\"white\")\n",
    "\n",
    "    # Configure color palette\n",
    "    esri_beaded_pastel_colors = [\n",
    "    \"#e65154\", \"#26b6ff\", \"#67e6d1\", \"#cd76d6\", \"#ffca8c\",\n",
    "    \"#ff8cd9\", \"#d99d5b\", \"#c8f2a9\", \"#d4b8ff\"\n",
    "    ]\n",
    "    \n",
    "    # Plot latitude bands with transparency\n",
    "    gdf.plot(\n",
    "        column=\"Latitude_Range\",\n",
    "        cmap=ListedColormap(esri_beaded_pastel_colors),\n",
    "        edgecolor=\"none\",\n",
    "        alpha=0.5,\n",
    "        linewidth=0.8,\n",
    "        ax=ax,\n",
    "        legend=False\n",
    "    )\n",
    "\n",
    "    # Add labels\n",
    "    for idx, row in gdf.iterrows():\n",
    "        minx, miny, maxx, maxy = row.geometry.bounds\n",
    "        label_x = 145\n",
    "        label_y = (miny + maxy) / 2\n",
    "\n",
    "        ax.text(\n",
    "            label_x, label_y,\n",
    "            row[\"Latitude_Range\"],\n",
    "            ha=\"left\",\n",
    "            va=\"center\",\n",
    "            fontsize=9,\n",
    "            color=\"black\"\n",
    "        )\n",
    "\n",
    "    # Title\n",
    "    ax.set_title(\"Latitude Bands from the Equator to the North Pole\", fontsize=14)\n",
    "    ax.set_axis_off()\n",
    "    plt.tight_layout() \n",
    "    plt.show()\n",
    "\n",
    "    logger.success(\"🎉 Latitude bands plotted.\")\n",
    "except Exception as e:\n",
    "    logger.error(f\"🚩 Failed to plot labeled latitude bands: {e}\")\n"
   ]
  },
  {
   "cell_type": "markdown",
   "id": "656567b4-9c4c-45fb-965d-8287ee2cab45",
   "metadata": {},
   "source": [
    "## **🧭 7. Next Steps**\n",
    "Now that we have created **latitude bands**, in a later notebook we will use them to:\n",
    "- **Clip ocean chlorophyll data** by latitude.\n",
    "- **Compute mean chlorophyll values** for each latitude band over time.\n",
    "\n",
    "This structured approach will allow us to observe how ocean chlorophyll levels vary across different latitudinal zones. Let's move on to the next step! 🚀"
   ]
  }
 ],
 "metadata": {
  "kernelspec": {
   "display_name": "Python (3.10)",
   "language": "python",
   "name": "3.10"
  },
  "language_info": {
   "codemirror_mode": {
    "name": "ipython",
    "version": 3
   },
   "file_extension": ".py",
   "mimetype": "text/x-python",
   "name": "python",
   "nbconvert_exporter": "python",
   "pygments_lexer": "ipython3",
   "version": "3.10.16"
  }
 },
 "nbformat": 4,
 "nbformat_minor": 5
}
